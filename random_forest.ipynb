{
 "cells": [
  {
   "cell_type": "code",
   "execution_count": 1,
   "metadata": {},
   "outputs": [],
   "source": [
    "import pandas as pd\n",
    "import numpy as np"
   ]
  },
  {
   "cell_type": "code",
   "execution_count": 2,
   "metadata": {},
   "outputs": [],
   "source": [
    "df = pd.read_csv(\"information.csv\")\n",
    "feature_names = ['NDVI', 'Drought', 'Elevation', 'DSMP', 'Population', 'Radiation', 'Precipitation','Temperature', 'Production']\n",
    "#feature_names = ['NDVI', 'Drought', 'DSMP', 'Population', 'Radiation', 'Precipitation','Temperature', 'Production','Fragmentation']\n",
    "label = \"Landcover\"\n",
    "X = df[feature_names]\n",
    "y = df[label]"
   ]
  },
  {
   "cell_type": "code",
   "execution_count": 3,
   "metadata": {},
   "outputs": [
    {
     "name": "stdout",
     "output_type": "stream",
     "text": [
      "0           4\n",
      "1           4\n",
      "2           4\n",
      "3           4\n",
      "4           4\n",
      "           ..\n",
      "29083906    1\n",
      "29083907    1\n",
      "29083908    1\n",
      "29083909    1\n",
      "29083910    1\n",
      "Name: Landcover, Length: 29083911, dtype: int64\n"
     ]
    }
   ],
   "source": [
    "print(y)"
   ]
  },
  {
   "cell_type": "code",
   "execution_count": 4,
   "metadata": {},
   "outputs": [
    {
     "name": "stderr",
     "output_type": "stream",
     "text": [
      "C:\\Users\\admin\\AppData\\Local\\Temp\\ipykernel_3924\\403450470.py:1: SettingWithCopyWarning: \n",
      "A value is trying to be set on a copy of a slice from a DataFrame\n",
      "\n",
      "See the caveats in the documentation: https://pandas.pydata.org/pandas-docs/stable/user_guide/indexing.html#returning-a-view-versus-a-copy\n",
      "  X.replace([np.inf, -np.inf], np.nan, inplace=True)\n"
     ]
    }
   ],
   "source": [
    "#We replace it in order to not have nan\n",
    "X.replace([np.inf, -np.inf], np.nan, inplace=True)\n"
   ]
  },
  {
   "cell_type": "code",
   "execution_count": 5,
   "metadata": {},
   "outputs": [
    {
     "name": "stderr",
     "output_type": "stream",
     "text": [
      "C:\\Users\\admin\\AppData\\Local\\Temp\\ipykernel_3924\\642802493.py:1: SettingWithCopyWarning: \n",
      "A value is trying to be set on a copy of a slice from a DataFrame.\n",
      "Try using .loc[row_indexer,col_indexer] = value instead\n",
      "\n",
      "See the caveats in the documentation: https://pandas.pydata.org/pandas-docs/stable/user_guide/indexing.html#returning-a-view-versus-a-copy\n",
      "  X.fillna(X.mean(), inplace=True)\n"
     ]
    }
   ],
   "source": [
    "#We fill the nan with the mean of the data\n",
    "X.fillna(X.mean(), inplace=True)"
   ]
  },
  {
   "cell_type": "code",
   "execution_count": 6,
   "metadata": {},
   "outputs": [],
   "source": [
    "#We check that there are not nan or inf values\n",
    "assert np.isinf(X).sum().sum() == 0, \"Todavía hay valores infinitos en X\"\n",
    "assert np.isnan(X).sum().sum() == 0, \"Todavía hay valores NaN en X\""
   ]
  },
  {
   "cell_type": "code",
   "execution_count": 7,
   "metadata": {},
   "outputs": [
    {
     "name": "stdout",
     "output_type": "stream",
     "text": [
      "(29083911, 9)\n"
     ]
    },
    {
     "name": "stderr",
     "output_type": "stream",
     "text": [
      "c:\\Users\\admin\\anaconda3\\envs\\rasterio_env\\lib\\site-packages\\sklearn\\feature_selection\\_univariate_selection.py:110: UserWarning: Features [5] are constant.\n",
      "  warnings.warn(\"Features %s are constant.\" % constant_features_idx, UserWarning)\n",
      "c:\\Users\\admin\\anaconda3\\envs\\rasterio_env\\lib\\site-packages\\sklearn\\feature_selection\\_univariate_selection.py:111: RuntimeWarning: invalid value encountered in divide\n",
      "  f = msb / msw\n",
      "c:\\Users\\admin\\anaconda3\\envs\\rasterio_env\\lib\\site-packages\\sklearn\\feature_selection\\_univariate_selection.py:110: UserWarning: Features [5] are constant.\n",
      "  warnings.warn(\"Features %s are constant.\" % constant_features_idx, UserWarning)\n",
      "c:\\Users\\admin\\anaconda3\\envs\\rasterio_env\\lib\\site-packages\\sklearn\\feature_selection\\_univariate_selection.py:111: RuntimeWarning: invalid value encountered in divide\n",
      "  f = msb / msw\n"
     ]
    },
    {
     "name": "stdout",
     "output_type": "stream",
     "text": [
      "(29083911, 7)\n",
      "[ 0.      0.      1.137   0.      0.3584 24.16    0.    ]\n"
     ]
    }
   ],
   "source": [
    "#We select the 80% of the variables that have more F_value\n",
    "from sklearn.feature_selection import SelectPercentile, f_classif\n",
    "print(X.shape)\n",
    "f_statistic, p_values = f_classif(X, y)\n",
    "X_new = SelectPercentile(f_classif, percentile=80).fit_transform(X, y)\n",
    "print(X_new.shape)\n",
    "print(X_new[0])\n",
    "feature_names = ['NDVI', 'Drought', 'Elevation', 'DSMP', 'Population', 'Radiation', 'Precipitation','Temperature', 'Production','Fragmentation']\n"
   ]
  },
  {
   "cell_type": "code",
   "execution_count": 10,
   "metadata": {},
   "outputs": [
    {
     "name": "stdout",
     "output_type": "stream",
     "text": [
      "NDVI tiene un f-statistic de 6992047.134648701\n",
      "NDVI tiene un p_valor de 0.0\n",
      "Drought tiene un f-statistic de 803601.2025171265\n",
      "Drought tiene un p_valor de 0.0\n",
      "Elevation tiene un f-statistic de 1327250.0211014305\n",
      "Elevation tiene un p_valor de 0.0\n",
      "DSMP tiene un f-statistic de 2333959.779112956\n",
      "DSMP tiene un p_valor de 0.0\n",
      "Population tiene un f-statistic de 10728220.717562119\n",
      "Population tiene un p_valor de 0.0\n",
      "Radiation tiene un f-statistic de nan\n",
      "Radiation tiene un p_valor de nan\n",
      "Precipitation tiene un f-statistic de 4213501.089090898\n",
      "Precipitation tiene un p_valor de 0.0\n",
      "Temperature tiene un f-statistic de 4614207.332872801\n",
      "Temperature tiene un p_valor de 0.0\n",
      "Production tiene un f-statistic de 2548411.6727538933\n",
      "Production tiene un p_valor de 0.0\n",
      "[ 6992047.1346487    803601.20251713  1327250.02110143  2333959.77911296\n",
      " 10728220.71756212               nan  4213501.0890909   4614207.3328728\n",
      "  2548411.67275389]\n",
      "[ 0.  0.  0.  0.  0. nan  0.  0.  0.]\n"
     ]
    }
   ],
   "source": [
    "#Show the f-statistic and the p-value\n",
    "for i in range(len(f_statistic)):\n",
    "    print(feature_names[i]+\" tiene un f-statistic de \"+str(f_statistic[i]))\n",
    "    print(feature_names[i]+\" tiene un p_valor de \"+str(p_values[i]))\n",
    "print(f_statistic)\n",
    "print(p_values)"
   ]
  },
  {
   "cell_type": "code",
   "execution_count": 8,
   "metadata": {},
   "outputs": [],
   "source": [
    "from sklearn.model_selection import train_test_split"
   ]
  },
  {
   "cell_type": "code",
   "execution_count": 9,
   "metadata": {},
   "outputs": [],
   "source": [
    "#we do a new sample, with the same percentage in the y variable\n",
    "\n",
    "sample_size = 0.1\n",
    "\n",
    "# Realizar el muestreo estratificado\n",
    "X_sampled, _, y_sampled, _ = train_test_split(X_new, y, train_size=sample_size, stratify=y, random_state=42)"
   ]
  },
  {
   "cell_type": "code",
   "execution_count": 10,
   "metadata": {},
   "outputs": [
    {
     "name": "stdout",
     "output_type": "stream",
     "text": [
      "10995476    3\n",
      "10287941    2\n",
      "15280778    4\n",
      "19008027    3\n",
      "7028805     3\n",
      "           ..\n",
      "16001833    2\n",
      "19116143    2\n",
      "26745869    1\n",
      "482101      4\n",
      "15791550    2\n",
      "Name: Landcover, Length: 2908391, dtype: int64\n"
     ]
    }
   ],
   "source": [
    "print(y_sampled)"
   ]
  },
  {
   "cell_type": "code",
   "execution_count": 10,
   "metadata": {},
   "outputs": [],
   "source": [
    "#We train the random forest\n",
    "\n",
    "from sklearn import ensemble\n",
    "\n",
    "n_trees=300\n",
    "random_seed = 42 \n",
    "rf = ensemble.RandomForestClassifier(n_trees)"
   ]
  },
  {
   "cell_type": "code",
   "execution_count": 11,
   "metadata": {},
   "outputs": [],
   "source": [
    "X_new = X_new.astype(np.int16)"
   ]
  },
  {
   "cell_type": "code",
   "execution_count": 13,
   "metadata": {},
   "outputs": [],
   "source": [
    "#We train the random forest with our data\n",
    "from sklearn.model_selection import train_test_split\n",
    "X_train, X_test, y_train, y_test = train_test_split(X_sampled, y_sampled, test_size=0.2, random_state=42)\n",
    "n_trees = 300\n",
    "random_seed = 42\n",
    "rf = ensemble.RandomForestClassifier(n_trees).fit(X_train, y_train)"
   ]
  },
  {
   "cell_type": "code",
   "execution_count": 14,
   "metadata": {},
   "outputs": [
    {
     "data": {
      "text/plain": [
       "2908391"
      ]
     },
     "execution_count": 14,
     "metadata": {},
     "output_type": "execute_result"
    }
   ],
   "source": [
    "len(y_sampled)"
   ]
  },
  {
   "cell_type": "code",
   "execution_count": 15,
   "metadata": {},
   "outputs": [
    {
     "name": "stdout",
     "output_type": "stream",
     "text": [
      "Ya ha hecho el primero\n"
     ]
    }
   ],
   "source": [
    "from sklearn.model_selection import KFold\n",
    "from sklearn.model_selection import cross_val_score\n",
    "\n",
    "#We shuffle the data before the validation because the rows with the same landcover are very close one to each other\n",
    "kf=KFold(n_splits=5, random_state=42, shuffle=True)\n",
    "print(\"Ya ha hecho el primero\")\n",
    "scores_shuffle = cross_val_score(rf, X_sampled, y_sampled, cv=kf)"
   ]
  },
  {
   "cell_type": "code",
   "execution_count": 17,
   "metadata": {},
   "outputs": [
    {
     "name": "stdout",
     "output_type": "stream",
     "text": [
      "[0.9091492  0.90878802 0.90916452 0.90953758 0.90892728]\n",
      "0.9091133207206721\n"
     ]
    }
   ],
   "source": [
    "print(scores_shuffle)\n",
    "print(np.mean(scores_shuffle))"
   ]
  },
  {
   "cell_type": "code",
   "execution_count": 16,
   "metadata": {},
   "outputs": [],
   "source": [
    "#We made the prediction using the cross validation\n",
    "from sklearn.model_selection import cross_val_predict\n",
    "y_pred=cross_val_predict(rf, X_sampled, y_sampled, cv=kf)"
   ]
  },
  {
   "cell_type": "code",
   "execution_count": 32,
   "metadata": {},
   "outputs": [
    {
     "name": "stdout",
     "output_type": "stream",
     "text": [
      "2908391\n"
     ]
    }
   ],
   "source": [
    "print(len(y_sampled))"
   ]
  },
  {
   "cell_type": "code",
   "execution_count": 56,
   "metadata": {},
   "outputs": [
    {
     "name": "stdout",
     "output_type": "stream",
     "text": [
      "Matriz de confusion\n",
      "[358726, 19801, 35345, 3766, 5]\n",
      "[17836, 745512, 57335, 4273, 313]\n",
      "[33166, 67490, 1317906, 7866, 127]\n",
      "[3359, 4568, 8733, 218308, 106]\n",
      "[4, 164, 46, 70, 3566]\n"
     ]
    }
   ],
   "source": [
    "#We do the confusion matrix\n",
    "\n",
    "etiqueta2=['forest', 'cropland', 'grassland', 'waterbody', 'built_up']\n",
    "\n",
    "forest_pred=[0 for k in range(5)]\n",
    "crop_pred=[0 for k in range(5)]\n",
    "grass_pred=[0 for k in range(5)]\n",
    "water_pred=[0 for k in range(5)]\n",
    "built_pred=[0 for k in range(5)]\n",
    "\n",
    "for i in range(0, 2908391):\n",
    "    for j in [1,2,3,4,5]:        \n",
    "        if y_sampled.iloc[i]==j:\n",
    "            if y_pred[i]==1:  \n",
    "                forest_pred[j-1]+=1\n",
    "            elif y_pred[i]==2:\n",
    "                crop_pred[j-1]+=1\n",
    "            elif y_pred[i]==3:\n",
    "                grass_pred[j-1]+=1\n",
    "            elif y_pred[i]==4:\n",
    "                water_pred[j-1]+=1\n",
    "            elif y_pred[i]==5:\n",
    "                built_pred[j-1]+=1\n",
    "            \n",
    "print(\"Matriz de confusion\")\n",
    "\n",
    "print(forest_pred)\n",
    "print(crop_pred)\n",
    "print(grass_pred)\n",
    "print(water_pred)\n",
    "print(built_pred)\n",
    "\n",
    "#416096"
   ]
  },
  {
   "cell_type": "code",
   "execution_count": 19,
   "metadata": {},
   "outputs": [
    {
     "data": {
      "image/png": "[encoded data removed]",
      "text/plain": [
       "<Figure size 640x480 with 1 Axes>"
      ]
     },
     "metadata": {},
     "output_type": "display_data"
    }
   ],
   "source": [
    "#We do the histogram of the y variable\n",
    "\n",
    "import matplotlib.pyplot as plt\n",
    "plt.hist(y, bins=10, edgecolor='black')\n",
    "plt.show()"
   ]
  },
  {
   "cell_type": "code",
   "execution_count": null,
   "metadata": {},
   "outputs": [],
   "source": []
  }
 ],
 "metadata": {
  "kernelspec": {
   "display_name": "geo_forge_env",
   "language": "python",
   "name": "python3"
  },
  "language_info": {
   "codemirror_mode": {
    "name": "ipython",
    "version": 3
   },
   "file_extension": ".py",
   "mimetype": "text/x-python",
   "name": "python",
   "nbconvert_exporter": "python",
   "pygments_lexer": "ipython3",
   "version": "3.8.15"
  }
 },
 "nbformat": 4,
 "nbformat_minor": 2
}
